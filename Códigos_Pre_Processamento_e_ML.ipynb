{
 "cells": [
  {
   "cell_type": "code",
   "execution_count": 10,
   "metadata": {
    "hideCode": false,
    "hidePrompt": false
   },
   "outputs": [
    {
     "data": {
      "text/plain": [
       "DecisionTreeClassifier()"
      ]
     },
     "execution_count": 10,
     "metadata": {},
     "output_type": "execute_result"
    }
   ],
   "source": [
    "import pandas as pd\n",
    "from sklearn.tree import DecisionTreeClassifier\n",
    "from sklearn.preprocessing import LabelEncoder\n",
    "\n",
    "train_data = pd.read_csv(\"desafio_manutencao_preditiva_treino.csv\")\n",
    "\n",
    "#Converter os valores\n",
    "le = LabelEncoder()\n",
    "train_data['udi'] = le.fit_transform(train_data['udi'])\n",
    "train_data['product_id'] = le.fit_transform(train_data['product_id'])\n",
    "train_data['type'] = le.fit_transform(train_data['type'])\n",
    "train_data['failure_type'] = le.fit_transform(train_data['failure_type'])\n",
    "\n",
    "# Split the data into features (X) and target (y) #Adicionar os dados das condições de funcionamento\n",
    "X_train = train_data.drop(['failure_type'], axis=1)\n",
    "X_train = X_train[['udi', 'product_id', 'type', 'air_temperature_k', 'process_temperature_k', 'rotational_speed_rpm', 'torque_nm', 'tool_wear_min']]\n",
    "y_train = train_data['failure_type']\n",
    "\n",
    "# Train a classifier on the training data\n",
    "classifier = DecisionTreeClassifier()\n",
    "classifier.fit(X_train, y_train)"
   ]
  },
  {
   "cell_type": "code",
   "execution_count": 19,
   "metadata": {
    "hideCode": false,
    "hidePrompt": false
   },
   "outputs": [],
   "source": [
    "import pandas as pd\n",
    "from sklearn.model_selection import train_test_split\n",
    "from sklearn.ensemble import RandomForestClassifier\n",
    "from sklearn.preprocessing import LabelEncoder\n",
    "from sklearn.metrics import classification_report\n",
    "\n",
    "\n",
    "train_data = pd.read_csv(\"desafio_manutencao_preditiva_treino.csv\")\n",
    "\n",
    "# Preprocess the data\n",
    "encoder = LabelEncoder()\n",
    "train_data[\"failure_type\"] = encoder.fit_transform(train_data[\"failure_type\"])\n",
    "train_data = train_data.drop([\"udi\", \"product_id\", \"type\"], axis=1)\n",
    "\n",
    "# Include the values from air_temperature_k, process_temperature_k, rotational_speed_rpm, torque_nm and tool_wear_min in the features\n",
    "X_train, X_val, y_train, y_val = train_test_split(train_data, train_data[\"failure_type\"], test_size=0.2, random_state=42)\n",
    "\n",
    "# Train a random forest classifier on the training data\n",
    "clf = RandomForestClassifier()\n",
    "clf.fit(X_train, y_train)\n",
    "\n",
    "test_data = pd.read_csv(\"desafio_manutencao_preditiva_teste.csv\")\n",
    "\n",
    "# Preprocess the test data\n",
    "test_data = test_data.drop([\"udi\", \"product_id\", \"type\"], axis=1)\n",
    "test_data[\"failure_type\"] = encoder.transform(test_data[\"failure_type\"])\n",
    "\n",
    "# Predict the failure types in the test data\n",
    "y_pred = clf.predict(test_data)\n",
    "y_pred = encoder.inverse_transform(y_pred)\n",
    "\n",
    "# Save the predictions to a csv file\n",
    "predictions = pd.DataFrame({\"failure_type\": y_pred})\n",
    "predictions.to_csv(\"predicted.csv\", index=False)\n"
   ]
  },
  {
   "cell_type": "markdown",
   "metadata": {
    "hideCode": false,
    "hidePrompt": false
   },
   "source": [
    "Inicialmente, decidi considerar os dados fornecidos na tabela \"desafio_manutencao_preditiva_treino\" para definir um padrão. Usando das informações fornecidas nas instruções do desafio e dos dados do arquivo csv extraídos pelos scripts em python, é como determinei como o caminho para realizar a previsão do tipo de falha.  Para isso, recorri a explicações em páginas que tratam sobre o tema. Após, somei meu básico conhecimento em Python e comecei a planejar como manipular os dados para obter o resultado. Sem conhecimentos na área de dados e machine learning, recorri ao auxilio da inteligência artificial; \n",
    "De acordo com o que aprendi nas buscas e com o auxílio da inteligência artificial, obtive um código que primeiro pré-processa os dados, convertendo valores não numéricos em valores numéricos e preparando os dados para em sequencia, se ter a previsão para o desafio. Naturalmente, houve a correção e adaptação de códigos para se enquadrarem nas caracteristicas do desafio, como a retirada do valor \"type\" de consideração, pois seu cálculo de probabilidade esta fora do conjunto de valor considerado relevante (Apresentado no documento com dados gráficos).\n",
    "Estudando o tema, compreendi que o tipo de problema a ser resolvido é o de regressão, pois está sendo utilizado um conjunto de dados de entrada já analisados, para prever um conjunto de dados de uma situação não analizada.\n",
    "No presente momento, por ser iniciante na área, não fui capaz de determinar uma medida de performance para apresentar.\n"
   ]
  }
 ],
 "metadata": {
  "hide_code_all_hidden": false,
  "kernelspec": {
   "display_name": "Python 3",
   "language": "python",
   "name": "python3"
  },
  "language_info": {
   "codemirror_mode": {
    "name": "ipython",
    "version": 3
   },
   "file_extension": ".py",
   "mimetype": "text/x-python",
   "name": "python",
   "nbconvert_exporter": "python",
   "pygments_lexer": "ipython3",
   "version": "3.8.5"
  }
 },
 "nbformat": 4,
 "nbformat_minor": 4
}
